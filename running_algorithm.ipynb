{
 "cells": [
  {
   "cell_type": "code",
   "execution_count": 1,
   "metadata": {},
   "outputs": [
    {
     "name": "stdout",
     "output_type": "stream",
     "text": [
      "Intel MKL WARNING: Support of Intel(R) Streaming SIMD Extensions 4.2 (Intel(R) SSE4.2) enabled only processors has been deprecated. Intel oneAPI Math Kernel Library 2025.0 will require Intel(R) Advanced Vector Extensions (Intel(R) AVX) instructions.\n",
      "Intel MKL WARNING: Support of Intel(R) Streaming SIMD Extensions 4.2 (Intel(R) SSE4.2) enabled only processors has been deprecated. Intel oneAPI Math Kernel Library 2025.0 will require Intel(R) Advanced Vector Extensions (Intel(R) AVX) instructions.\n",
      "ratings [[0.5  2.75 4.  ]\n",
      " [1.   3.   5.  ]]\n",
      "res [[-2.25  0.    1.25]\n",
      " [-1.75  0.25  2.25]]\n"
     ]
    }
   ],
   "source": [
    "import numpy as np\n",
    "from functions import scales_mean_matrix_factorization\n",
    "\n",
    "\n",
    "# make user-item matrix (calculating different \"rating\" metrics)\n",
    "\n",
    "# do matrix factorization (using different matrix factorization methods: Alternating Least Squares, Scale's Mean, others??)\n",
    "ratings = np.array([[0.5, np.nan, 4],\n",
    "                    [1, 3, 5]])\n",
    "\n",
    "\n",
    "res = scales_mean_matrix_factorization(ratings)\n",
    "print(\"res\", res)\n",
    "\n"
   ]
  }
 ],
 "metadata": {
  "kernelspec": {
   "display_name": "cs326",
   "language": "python",
   "name": "python3"
  },
  "language_info": {
   "codemirror_mode": {
    "name": "ipython",
    "version": 3
   },
   "file_extension": ".py",
   "mimetype": "text/x-python",
   "name": "python",
   "nbconvert_exporter": "python",
   "pygments_lexer": "ipython3",
   "version": "3.10.14"
  }
 },
 "nbformat": 4,
 "nbformat_minor": 2
}
