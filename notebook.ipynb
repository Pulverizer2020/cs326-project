{
 "cells": [
  {
   "cell_type": "code",
   "execution_count": 20,
   "metadata": {},
   "outputs": [
    {
     "name": "stdout",
     "output_type": "stream",
     "text": [
      "   sales_id  order_id  product_id  price_per_unit  quantity_x  total_price  \\\n",
      "0         0         0         218             106           2          212   \n",
      "1         1         0         481             118           1          118   \n",
      "2         2         0           2              96           3          288   \n",
      "3         3         0        1002             106           2          212   \n",
      "4         4         0         691             113           3          339   \n",
      "\n",
      "  product_type  product_name size  colour  ...  order_date  delivery_date  \\\n",
      "0        Shirt      Chambray    L  orange  ...   2021-8-30     2021-09-24   \n",
      "1       Jacket        Puffer    S  indigo  ...   2021-8-30     2021-09-24   \n",
      "2        Shirt  Oxford Cloth    M     red  ...   2021-8-30     2021-09-24   \n",
      "3     Trousers          Wool    M    blue  ...   2021-8-30     2021-09-24   \n",
      "4       Jacket         Parka    S  indigo  ...   2021-8-30     2021-09-24   \n",
      "\n",
      "      customer_name       gender  age               home_address zip_code  \\\n",
      "0  Annabella Devote  Genderfluid   75  4927 Alice MeadowApt. 960     7787   \n",
      "1  Annabella Devote  Genderfluid   75  4927 Alice MeadowApt. 960     7787   \n",
      "2  Annabella Devote  Genderfluid   75  4927 Alice MeadowApt. 960     7787   \n",
      "3  Annabella Devote  Genderfluid   75  4927 Alice MeadowApt. 960     7787   \n",
      "4  Annabella Devote  Genderfluid   75  4927 Alice MeadowApt. 960     7787   \n",
      "\n",
      "             city            state    country  \n",
      "0  Sanfordborough  South Australia  Australia  \n",
      "1  Sanfordborough  South Australia  Australia  \n",
      "2  Sanfordborough  South Australia  Australia  \n",
      "3  Sanfordborough  South Australia  Australia  \n",
      "4  Sanfordborough  South Australia  Australia  \n",
      "\n",
      "[5 rows x 25 columns]\n",
      "(5000, 25)\n"
     ]
    }
   ],
   "source": [
    "import pandas as pd\n",
    "\n",
    "# Load the CSV files into DataFrames\n",
    "df_sales = pd.read_csv('data/sales.csv')\n",
    "df_products = pd.read_csv('data/products.csv')\n",
    "df_orders = pd.read_csv('data/orders.csv')\n",
    "df_customers = pd.read_csv('data/customers.csv')\n",
    "\n",
    "# standardize all ids to zero indexing\n",
    "df_sales[\"order_id\"] = df_sales[\"order_id\"]-1\n",
    "df_orders[\"order_id\"] = df_orders[\"order_id\"]-1\n",
    "df_orders[\"customer_id\"] = df_orders[\"customer_id\"]-1\n",
    "df_customers[\"customer_id\"] = df_customers[\"customer_id\"]-1\n",
    "\n",
    "df_products.rename(columns={'product_ID': 'product_id'}, inplace=True)\n",
    "\n",
    "# print(df_sales.head())\n",
    "# print(df_sales.shape)\n",
    "# print(df_products.head())\n",
    "# print(df_products.shape)\n",
    "# print(df_orders.head())\n",
    "# print(df_orders.shape)\n",
    "# print(df_customers.head())\n",
    "# print(df_customers.shape)\n",
    "\n",
    "df_merged = pd.merge(df_sales, df_products, on='product_id', how='inner')\n",
    "df_merged = pd.merge(df_merged, df_orders, on='order_id', how='inner')\n",
    "df_merged = pd.merge(df_merged, df_customers, on='customer_id', how='inner')\n",
    "\n",
    "\n",
    "print(df_merged.head())\n",
    "df_merged.to_csv('data/merged_data_raw.csv', index=False)\n",
    "print(df_merged.shape)"
   ]
  },
  {
   "cell_type": "code",
   "execution_count": null,
   "metadata": {},
   "outputs": [],
   "source": [
    "# Check for missing values\n",
    "# print(df_merged.isnull().sum())\n",
    "\n",
    "# Check data types\n",
    "# print(df_merged.dtypes)\n",
    "\n",
    "# data cleaning\n",
    "df_merged = df_merged.drop_duplicates()\n",
    "\n",
    "# Convert 'order_date' and 'delivery_date' to datetime\n",
    "df_merged['order_date'] = pd.to_datetime(df_merged['order_date'])\n",
    "df_merged['delivery_date'] = pd.to_datetime(df_merged['delivery_date'])\n",
    "\n",
    "# Example of a new feature: Days to deliver\n",
    "df_merged['days_to_deliver'] = (df_merged['delivery_date'] - df_merged['order_date']).dt.days\n",
    "\n",
    "# Display the adjusted DataFrame\n",
    "print(df_merged.head())\n",
    "df_merged.to_csv('data/merged_data.csv', index=False)\n",
    "\n"
   ]
  },
  {
   "cell_type": "code",
   "execution_count": null,
   "metadata": {},
   "outputs": [],
   "source": [
    "numerical_vars = df_merged[['price_per_unit', 'quantity_x', 'total_price', 'payment', 'age', 'days_to_deliver']]\n",
    "\n",
    "# Calculate correlation matrix\n",
    "correlation_matrix = numerical_vars.corr()\n",
    "\n",
    "print(\"Correlation Matrix:\")\n",
    "print(correlation_matrix)\n",
    "\n",
    "# todo: non numerical variables\n",
    "\n",
    "import seaborn as sns\n",
    "import matplotlib.pyplot as plt\n",
    "\n",
    "# Plot heatmap of the correlation matrix\n",
    "plt.figure(figsize=(10, 8))\n",
    "sns.heatmap(correlation_matrix, annot=True, cmap='coolwarm', fmt=\".2f\", linewidths=.5)\n",
    "plt.title('Correlation Matrix Heatmap')\n",
    "plt.show()\n",
    "\n"
   ]
  },
  {
   "cell_type": "code",
   "execution_count": 16,
   "metadata": {},
   "outputs": [
    {
     "name": "stderr",
     "output_type": "stream",
     "text": [
      "C:\\Users\\david\\AppData\\Local\\Temp\\ipykernel_85140\\2588481844.py:1: UserWarning: A NumPy version >=1.22.4 and <2.3.0 is required for this version of SciPy (detected version 1.22.3)\n",
      "  import scipy.stats as stats\n"
     ]
    },
    {
     "name": "stdout",
     "output_type": "stream",
     "text": [
      "ANOVA on price per unit across product types: F-value=158.66390457543474, p-value=1.558232496968769e-67\n",
      "Chi-square for product type and gender: Chi2=19.01887688289363, p-value=0.16422920443332853\n",
      "Chi-square for product type and city: Chi2=1193.6851198108263, p-value=0.5940681608239126\n",
      "ANOVA for quantity sold across months: F-value=0.7068397334048305, p-value=0.7032156607390802\n"
     ]
    }
   ],
   "source": [
    "\n",
    "import scipy.stats as stats\n",
    "from itertools import combinations\n",
    "\n",
    "# Load your data\n",
    "df = pd.read_csv('data/merged_data.csv')\n",
    "\n",
    "# some transformation ideas\n",
    "# Convert date to datetime and extract month\n",
    "if 'order_date' in df.columns:\n",
    "    df['order_date'] = pd.to_datetime(df['order_date'])\n",
    "    df['month'] = df['order_date'].dt.month\n",
    "\n",
    "# Categorize age into groups\n",
    "if 'age' in df.columns:\n",
    "    df['age_group'] = pd.cut(df['age'], bins=[0, 18, 35, 65, 100], labels=['Youth', 'Young Adult', 'Adult', 'Senior'])\n",
    "\n",
    "# ANOVA\n",
    "def perform_anova(df, numerical, categorical):\n",
    "    grouped = df.groupby(categorical)[numerical].apply(list)\n",
    "    f_val, p_val = stats.f_oneway(*grouped)\n",
    "    return f_val, p_val\n",
    "\n",
    "# Chi-square test\n",
    "def perform_chi_square(df, cat1, cat2):\n",
    "    table = pd.crosstab(df[cat1], df[cat2])\n",
    "    chi2, p = stats.chi2_contingency(table)[:2]\n",
    "    return chi2, p\n",
    "\n",
    "# ANOVA on price per unit across product types\n",
    "f_val, p_val = perform_anova(df, 'price_per_unit', 'product_type')\n",
    "print(f\"ANOVA on price per unit across product types: F-value={f_val}, p-value={p_val}\")\n",
    "\n",
    "# Chi-square for product type and demographic groups\n",
    "chi2, p = perform_chi_square(df, 'product_type', 'gender')\n",
    "print(f\"Chi-square for product type and gender: Chi2={chi2}, p-value={p}\")\n",
    "\n",
    "# Chi-square for product type across cities\n",
    "if 'city' in df.columns:\n",
    "    chi2, p = perform_chi_square(df, 'product_type', 'city')\n",
    "    print(f\"Chi-square for product type and city: Chi2={chi2}, p-value={p}\")\n",
    "\n",
    "# ANOVA for monthly sales\n",
    "if 'month' in df.columns:\n",
    "    f_val, p_val = perform_anova(df, 'quantity_x', 'month')\n",
    "    print(f\"ANOVA for quantity sold across months: F-value={f_val}, p-value={p_val}\")\n"
   ]
  },
  {
   "cell_type": "code",
   "execution_count": null,
   "metadata": {},
   "outputs": [],
   "source": [
    "import numpy as np\n",
    "from plotly import express as px\n",
    "\n",
    "ids, id_counts = np.unique(df[\"product_id\"], return_counts=True)\n",
    "\n",
    "fig = px.violin(df[\"product_id\"], points=\"all\")\n",
    "fig.show()\n",
    "\n",
    "ages, age_counts = np.unique(df[\"age\"], return_counts=True)\n",
    "\n",
    "fig = px.violin(df[\"age\"], points=\"all\")\n",
    "fig.show()\n",
    "\n",
    "genders, gender_counts = np.unique(df[\"gender\"], return_counts=True)\n",
    "\n",
    "fig = px.violin(df[\"gender\"], points=\"all\")\n",
    "fig.show()\n",
    "\n",
    "\n"
   ]
  },
  {
   "cell_type": "code",
   "execution_count": 14,
   "metadata": {},
   "outputs": [
    {
     "name": "stdout",
     "output_type": "stream",
     "text": [
      "1\n",
      "473\n",
      "1000 customers and 1260 products\n"
     ]
    },
    {
     "ename": "TypeError",
     "evalue": "'float' object is not callable",
     "output_type": "error",
     "traceback": [
      "\u001b[1;31m---------------------------------------------------------------------------\u001b[0m",
      "\u001b[1;31mTypeError\u001b[0m                                 Traceback (most recent call last)",
      "Input \u001b[1;32mIn [14]\u001b[0m, in \u001b[0;36m<cell line: 11>\u001b[1;34m()\u001b[0m\n\u001b[0;32m      7\u001b[0m \u001b[38;5;28mprint\u001b[39m(df_orders[\u001b[38;5;124m\"\u001b[39m\u001b[38;5;124mcustomer_id\u001b[39m\u001b[38;5;124m\"\u001b[39m][\u001b[38;5;241m1\u001b[39m])\n\u001b[0;32m      9\u001b[0m \u001b[38;5;28mprint\u001b[39m(num_customers, \u001b[38;5;124m\"\u001b[39m\u001b[38;5;124mcustomers and\u001b[39m\u001b[38;5;124m\"\u001b[39m, num_products, \u001b[38;5;124m\"\u001b[39m\u001b[38;5;124mproducts\u001b[39m\u001b[38;5;124m\"\u001b[39m)\n\u001b[1;32m---> 11\u001b[0m user_item_matrix \u001b[38;5;241m=\u001b[39m \u001b[43mnp\u001b[49m\u001b[38;5;241;43m.\u001b[39;49m\u001b[43mnan\u001b[49m\u001b[43m(\u001b[49m\u001b[43m(\u001b[49m\u001b[43mnum_customers\u001b[49m\u001b[43m,\u001b[49m\u001b[43m \u001b[49m\u001b[43mnum_products\u001b[49m\u001b[43m)\u001b[49m\u001b[43m)\u001b[49m\n\u001b[0;32m     13\u001b[0m display(df_sales\u001b[38;5;241m.\u001b[39mhead())\n\u001b[0;32m     15\u001b[0m \u001b[38;5;28;01mfor\u001b[39;00m i \u001b[38;5;129;01min\u001b[39;00m \u001b[38;5;28mrange\u001b[39m(df_sales\u001b[38;5;241m.\u001b[39mshape[\u001b[38;5;241m0\u001b[39m]):\n",
      "\u001b[1;31mTypeError\u001b[0m: 'float' object is not callable"
     ]
    }
   ],
   "source": [
    "import numpy as np\n",
    "\n",
    "num_customers = df_customers.shape[0]\n",
    "num_products = df_products.shape[0]\n",
    "\n",
    "print(df_sales[\"order_id\"][0])\n",
    "print(df_orders[\"customer_id\"][1])\n",
    "\n",
    "print(num_customers, \"customers and\", num_products, \"products\")\n",
    "\n",
    "user_item_matrix = np.nan((num_customers, num_products))\n",
    "\n",
    "display(df_sales.head())\n",
    "\n",
    "for i in range(df_sales.shape[0]):\n",
    "    order_id = df_sales[\"order_id\"][i]-1\n",
    "    customer_id = df_orders[\"customer_id\"][order_id]\n",
    "    product_id = df_sales[\"product_id\"][i]\n",
    "\n",
    "    user_item_matrix[customer_id, product_id] += 1\n",
    "\n",
    "print(user_item_matrix.shape)\n",
    "print(user_item_matrix[:5, :])\n",
    "\n",
    "\n"
   ]
  }
 ],
 "metadata": {
  "kernelspec": {
   "display_name": "Python 3",
   "language": "python",
   "name": "python3"
  },
  "language_info": {
   "codemirror_mode": {
    "name": "ipython",
    "version": 3
   },
   "file_extension": ".py",
   "mimetype": "text/x-python",
   "name": "python",
   "nbconvert_exporter": "python",
   "pygments_lexer": "ipython3",
   "version": "3.10.5"
  }
 },
 "nbformat": 4,
 "nbformat_minor": 2
}
